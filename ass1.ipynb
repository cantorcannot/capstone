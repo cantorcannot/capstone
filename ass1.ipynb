{
 "cells": [
  {
   "cell_type": "code",
   "execution_count": 1,
   "metadata": {},
   "outputs": [
    {
     "name": "stdout",
     "output_type": "stream",
     "text": [
      "5\n"
     ]
    }
   ],
   "source": [
    "# Task 1\n",
    "\n",
    "def maxDiff(n):\n",
    "    max_val = n[0]\n",
    "    max_diff = 0\n",
    "    for i in range(len(n)):\n",
    "        if (n[i] > max_val):\n",
    "            max_val = n[i]\n",
    "        elif (max_val - n[i] > max_diff):\n",
    "             max_diff = max_val - n[i]\n",
    "    return max_diff\n",
    "\n",
    "n = [2,6,3,5,1,7]\n",
    "print (maxDiff(n))"
   ]
  },
  {
   "cell_type": "code",
   "execution_count": 2,
   "metadata": {},
   "outputs": [
    {
     "name": "stdout",
     "output_type": "stream",
     "text": [
      "1\n",
      "2.0\n"
     ]
    }
   ],
   "source": [
    "# Task 2\n",
    "\n",
    "import pandas as pd\n",
    "from scipy.interpolate import interp1d\n",
    "\n",
    "fred = pd.read_csv(\"Fred.txt\", header=None, names=[\"Charged\", \"Lasted\"]) \n",
    "fred_sort = fred.sort_values(by='Charged', ascending=True)\n",
    "\n",
    "y = interp1d(fred_sort.Charged,fred_sort.Lasted)\n",
    "\n",
    "if __name__ == '__main__':\n",
    "    tCharged = float(input()) #input charging time\n",
    "    print(y(tCharged))"
   ]
  },
  {
   "cell_type": "code",
   "execution_count": 4,
   "metadata": {},
   "outputs": [],
   "source": [
    "# Task 3\n",
    "\n",
    "import numpy as np\n",
    "import pandas as pd\n",
    "\n",
    "def moneyFlowIndex(filename, n):\n",
    "    df = pd.read_csv(filename, index_col = \"Day\")\n",
    "    for i in range(1, len(\"Day\")):\n",
    "        df['Typical Price'] = (df.High + df.Low + df.Close)/3\n",
    "    df['Positive Money Flow'] = np.where(df['Typical Price'].shift(1) < df['Typical Price'],df['Typical Price']*df['Volume'] , 0)\n",
    "    df['Negative Money Flow'] = np.where(df['Typical Price'].shift(1) > df['Typical Price'],df['Typical Price']*df['Volume'] , 0)\n",
    "    df['Positive Money Flow Sum'] = pd.to_numeric(df['Positive Money Flow']).rolling(n).sum()\n",
    "    df['Negative Money Flow Sum'] = pd.to_numeric(df['Negative Money Flow']).rolling(n).sum()\n",
    "    MoneyRatio = df['Positive Money Flow Sum'] / df['Negative Money Flow Sum']\n",
    "    df['Money Flow Index'] = (100 * (MoneyRatio) / (1 + MoneyRatio))\n",
    "    df = df.round(2)\n",
    "    df = df.replace(0,np.nan)\n",
    "    df.to_csv('money_flow_index_' + str(n) +'.csv')\n",
    "moneyFlowIndex(\"mfiData.csv\", 10)\n"
   ]
  },
  {
   "cell_type": "code",
   "execution_count": 5,
   "metadata": {},
   "outputs": [
    {
     "name": "stdout",
     "output_type": "stream",
     "text": [
      "3\n"
     ]
    }
   ],
   "source": [
    "# Task 4\n",
    "\n",
    "def oddtimes(n):\n",
    "    XOR = 0\n",
    "    for num in n:\n",
    "        XOR^=num\n",
    "    return XOR\n",
    "\n",
    "n = [3,5,1,19,5,3,3,2,2,1,19]\n",
    "print (oddtimes(n))"
   ]
  },
  {
   "cell_type": "code",
   "execution_count": null,
   "metadata": {},
   "outputs": [],
   "source": []
  },
  {
   "cell_type": "code",
   "execution_count": null,
   "metadata": {},
   "outputs": [],
   "source": []
  },
  {
   "cell_type": "code",
   "execution_count": null,
   "metadata": {},
   "outputs": [],
   "source": []
  },
  {
   "cell_type": "code",
   "execution_count": null,
   "metadata": {},
   "outputs": [],
   "source": []
  },
  {
   "cell_type": "code",
   "execution_count": null,
   "metadata": {},
   "outputs": [],
   "source": []
  }
 ],
 "metadata": {
  "kernelspec": {
   "display_name": "Python 3",
   "language": "python",
   "name": "python3"
  },
  "language_info": {
   "codemirror_mode": {
    "name": "ipython",
    "version": 3
   },
   "file_extension": ".py",
   "mimetype": "text/x-python",
   "name": "python",
   "nbconvert_exporter": "python",
   "pygments_lexer": "ipython3",
   "version": "3.8.1"
  }
 },
 "nbformat": 4,
 "nbformat_minor": 4
}
